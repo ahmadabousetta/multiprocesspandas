{
 "cells": [
  {
   "cell_type": "code",
   "execution_count": 1,
   "id": "266d377b",
   "metadata": {},
   "outputs": [],
   "source": [
    "import pandas as pd\n",
    "import numpy as np\n",
    "from multiprocesspandas import applyparallel"
   ]
  },
  {
   "cell_type": "markdown",
   "id": "d380c52b",
   "metadata": {},
   "source": [
    "# DataFrame Groupby"
   ]
  },
  {
   "cell_type": "code",
   "execution_count": 11,
   "id": "88fa6969",
   "metadata": {},
   "outputs": [
    {
     "name": "stderr",
     "output_type": "stream",
     "text": [
      "100%|████████████████████████████████████████████████████████████████████████████████████████████████████████████████████████████████████████████████████████████████████████████████████████████████████████████████████████████████████████████| 2/2 [00:00<00:00, 375.45it/s]\n"
     ]
    },
    {
     "data": {
      "text/html": [
       "<div>\n",
       "<style scoped>\n",
       "    .dataframe tbody tr th:only-of-type {\n",
       "        vertical-align: middle;\n",
       "    }\n",
       "\n",
       "    .dataframe tbody tr th {\n",
       "        vertical-align: top;\n",
       "    }\n",
       "\n",
       "    .dataframe thead th {\n",
       "        text-align: right;\n",
       "    }\n",
       "</style>\n",
       "<table border=\"1\" class=\"dataframe\">\n",
       "  <thead>\n",
       "    <tr style=\"text-align: right;\">\n",
       "      <th></th>\n",
       "      <th></th>\n",
       "      <th>0</th>\n",
       "      <th>1</th>\n",
       "    </tr>\n",
       "    <tr>\n",
       "      <th>group</th>\n",
       "      <th></th>\n",
       "      <th></th>\n",
       "      <th></th>\n",
       "    </tr>\n",
       "  </thead>\n",
       "  <tbody>\n",
       "    <tr>\n",
       "      <th rowspan=\"5\" valign=\"top\">0</th>\n",
       "      <th>0</th>\n",
       "      <td>0.281548</td>\n",
       "      <td>-2.205709</td>\n",
       "    </tr>\n",
       "    <tr>\n",
       "      <th>2</th>\n",
       "      <td>1.654476</td>\n",
       "      <td>-1.604071</td>\n",
       "    </tr>\n",
       "    <tr>\n",
       "      <th>4</th>\n",
       "      <td>2.000506</td>\n",
       "      <td>4.031153</td>\n",
       "    </tr>\n",
       "    <tr>\n",
       "      <th>6</th>\n",
       "      <td>-2.615728</td>\n",
       "      <td>-0.150742</td>\n",
       "    </tr>\n",
       "    <tr>\n",
       "      <th>8</th>\n",
       "      <td>2.222985</td>\n",
       "      <td>4.007848</td>\n",
       "    </tr>\n",
       "  </tbody>\n",
       "</table>\n",
       "</div>"
      ],
      "text/plain": [
       "                0         1\n",
       "group                      \n",
       "0     0  0.281548 -2.205709\n",
       "      2  1.654476 -1.604071\n",
       "      4  2.000506  4.031153\n",
       "      6 -2.615728 -0.150742\n",
       "      8  2.222985  4.007848"
      ]
     },
     "execution_count": 11,
     "metadata": {},
     "output_type": "execute_result"
    }
   ],
   "source": [
    "data = pd.DataFrame(np.random.normal(0,1,(105,2)))\n",
    "data['group'] = data.index%2\n",
    "data['group2'] = data.index%3\n",
    "\n",
    "def custom_func(data, num_to_add):\n",
    "    return data[[0,1]]*2\n",
    "\n",
    "output = data.groupby(['group']).apply_parallel(custom_func, num_to_add=5, num_processes=4, n_chunks=20)\n",
    "output.head()"
   ]
  },
  {
   "cell_type": "markdown",
   "id": "18c6b256",
   "metadata": {},
   "source": [
    "# DataFrames"
   ]
  },
  {
   "cell_type": "code",
   "execution_count": 21,
   "id": "6c66c513",
   "metadata": {},
   "outputs": [
    {
     "name": "stderr",
     "output_type": "stream",
     "text": [
      "100%|███████████████████████████████████████████████████████████████████████████████████████████████████████████████████████████████████████████████████████████████████████████████████████████████████████████████████████████████████████████| 2/2 [00:00<00:00, 1800.52it/s]\n"
     ]
    },
    {
     "data": {
      "text/plain": [
       "A    5460.0\n",
       "B    5460.0\n",
       "dtype: float64"
      ]
     },
     "execution_count": 21,
     "metadata": {},
     "output_type": "execute_result"
    }
   ],
   "source": [
    "data = pd.DataFrame(np.zeros((105,2)), columns = ['A','B'])\n",
    "\n",
    "def func(data, num_to_add):\n",
    "    return (data+num_to_add).sum()\n",
    "\n",
    "output = data.apply_parallel(func, num_to_add=np.arange(105), num_processes=4, axis=1, n_chunks=20)\n",
    "output.head()"
   ]
  },
  {
   "cell_type": "markdown",
   "id": "0a5e47e3",
   "metadata": {},
   "source": [
    "# Series"
   ]
  },
  {
   "cell_type": "code",
   "execution_count": 22,
   "id": "22a37889",
   "metadata": {},
   "outputs": [
    {
     "name": "stderr",
     "output_type": "stream",
     "text": [
      "100%|███████████████████████████████████████████████████████████████████████████████████████████████████████████████████████████████████████████████████████████████████████████████████████████████████████████████████████████████████████| 100/100 [00:00<00:00, 9650.73it/s]\n"
     ]
    },
    {
     "data": {
      "text/plain": [
       "0    0.01\n",
       "1    1.01\n",
       "2    2.01\n",
       "3    3.01\n",
       "4    4.01\n",
       "dtype: float64"
      ]
     },
     "execution_count": 22,
     "metadata": {},
     "output_type": "execute_result"
    }
   ],
   "source": [
    "data = pd.Series(np.arange(100))\n",
    "\n",
    "def func(data, num_to_add):\n",
    "    return num_to_add+data\n",
    "\n",
    "output = data.apply_parallel(func, num_to_add=0.01, num_processes=4, n_chunks=20)\n",
    "output.head()"
   ]
  },
  {
   "cell_type": "code",
   "execution_count": null,
   "id": "621bae3c",
   "metadata": {},
   "outputs": [],
   "source": []
  }
 ],
 "metadata": {
  "kernelspec": {
   "display_name": "Python 3 (ipykernel)",
   "language": "python",
   "name": "python3"
  },
  "language_info": {
   "codemirror_mode": {
    "name": "ipython",
    "version": 3
   },
   "file_extension": ".py",
   "mimetype": "text/x-python",
   "name": "python",
   "nbconvert_exporter": "python",
   "pygments_lexer": "ipython3",
   "version": "3.8.3"
  }
 },
 "nbformat": 4,
 "nbformat_minor": 5
}
